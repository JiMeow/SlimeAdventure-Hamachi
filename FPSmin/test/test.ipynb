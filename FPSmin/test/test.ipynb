{
 "cells": [
  {
   "cell_type": "code",
   "execution_count": 3,
   "metadata": {},
   "outputs": [
    {
     "name": "stdout",
     "output_type": "stream",
     "text": [
      "test\n"
     ]
    }
   ],
   "source": [
    "from threading import Thread\n",
    "class Test:\n",
    "    def __init__(self):\n",
    "        self.word = \"test\"\n",
    "    def test(self):\n",
    "        print(self.word)\n",
    "o = Test()\n",
    "thread = Thread(target=o.test)\n",
    "thread.start()"
   ]
  },
  {
   "cell_type": "code",
   "execution_count": 33,
   "metadata": {},
   "outputs": [
    {
     "data": {
      "text/plain": [
       "<Vector2(2, 2)>"
      ]
     },
     "execution_count": 33,
     "metadata": {},
     "output_type": "execute_result"
    }
   ],
   "source": [
    "import pygame\n",
    "vector1 = pygame.math.Vector2(4,4)\n",
    "vector2 = pygame.math.Vector2(2,2)\n",
    "# interpolation\n",
    "pygame.math.Vector2.lerp(vector1,vector2, 1)"
   ]
  },
  {
   "cell_type": "code",
   "execution_count": 20,
   "metadata": {},
   "outputs": [
    {
     "name": "stderr",
     "output_type": "stream",
     "text": [
      "Exception in thread Thread-22:\n",
      "Traceback (most recent call last):\n",
      "  File \"C:\\Users\\MinZung\\AppData\\Local\\Programs\\Python\\Python39\\lib\\threading.py\", line 973, in _bootstrap_inner\n",
      "    self.run()\n",
      "  File \"C:\\Users\\MinZung\\AppData\\Local\\Programs\\Python\\Python39\\lib\\threading.py\", line 910, in run\n",
      "    self._target(*self._args, **self._kwargs)\n",
      "  File \"C:\\Users\\MinZung\\AppData\\Local\\Temp/ipykernel_17372/3056894119.py\", line 10, in test\n",
      "Exception: test\n"
     ]
    }
   ],
   "source": [
    "import threading\n",
    "from time import sleep\n",
    "class MyThread(threading.Thread):\n",
    "    def __init__(self):\n",
    "        threading.Thread.__init__(self)\n",
    "    def run(self):\n",
    "        test()\n",
    "def test():\n",
    "    sleep(1)\n",
    "    raise Exception(\"test\")\n",
    "    \n",
    "try:\n",
    "    thread = threading.Thread(target=test)\n",
    "    thread.start()\n",
    "    thread.join()\n",
    "except:\n",
    "    print(\"error handling\")\n"
   ]
  },
  {
   "cell_type": "code",
   "execution_count": 22,
   "metadata": {},
   "outputs": [],
   "source": [
    "import threading\n",
    "\n",
    "# Custom Thread Class\n",
    "class MyThread(threading.Thread):\n",
    "     \n",
    "  # Function that raises the custom exception\n",
    "    def someFunction(self):\n",
    "        name = threading.current_thread().name\n",
    "        raise Exception(\"An error in thread \"+ name)\n",
    " \n",
    "    def run(self):\n",
    "       \n",
    "        # Variable that stores the exception, if raised by someFunction\n",
    "        self.exc = None           \n",
    "        try:\n",
    "            self.someFunction()\n",
    "        except BaseException as e:\n",
    "            self.exc = e\n",
    "       \n",
    "    def join(self):\n",
    "        threading.Thread.join(self)\n",
    "        # Since join() returns in caller thread\n",
    "        # we re-raise the caught exception\n",
    "        # if any was caught\n",
    "        if self.exc:\n",
    "            raise self.exc\n",
    " \n",
    "# Driver function\n",
    "def main():\n",
    "   \n",
    "    # Create a new Thread t\n",
    "    # Here Main is the caller thread\n",
    "    t = MyThread()\n",
    "    t.start()\n",
    "     \n",
    "    # Exception handled in Caller thread\n",
    "    try:\n",
    "        t.join()\n",
    "    except Exception as e:\n",
    "        print(\"Exception Handled in Main, Details of the Exception:\", e)"
   ]
  },
  {
   "cell_type": "code",
   "execution_count": 1,
   "metadata": {},
   "outputs": [
    {
     "data": {
      "text/plain": [
       "dict_items([])"
      ]
     },
     "execution_count": 1,
     "metadata": {},
     "output_type": "execute_result"
    }
   ],
   "source": [
    "a = {\"player\": {}}\n",
    "a[\"player\"].items()"
   ]
  },
  {
   "cell_type": "code",
   "execution_count": 2,
   "metadata": {},
   "outputs": [
    {
     "name": "stdout",
     "output_type": "stream",
     "text": [
      "a\n",
      "b\n",
      "c\n"
     ]
    }
   ],
   "source": [
    "class B:\n",
    "    def __init__(self):\n",
    "        self.b = \"b\"\n",
    "class C:\n",
    "    def __init__(self):\n",
    "        self.c = \"c\"\n",
    "    def test(self):\n",
    "        print(self.a)\n",
    "        print(self.b)\n",
    "        print(self.c)\n",
    "\n",
    "class A(B,C):\n",
    "    def __init__(self):\n",
    "        self.a = \"a\"\n",
    "        B.__init__(self)\n",
    "        C.__init__(self)\n",
    "\n",
    "a = A()\n",
    "a.test()"
   ]
  },
  {
   "cell_type": "code",
   "execution_count": 2,
   "metadata": {},
   "outputs": [
    {
     "name": "stdout",
     "output_type": "stream",
     "text": [
      "(1,)\n"
     ]
    }
   ],
   "source": [
    "def test(*args):\n",
    "    print(args)\n",
    "test(1)"
   ]
  },
  {
   "cell_type": "code",
   "execution_count": 1,
   "metadata": {},
   "outputs": [
    {
     "data": {
      "text/plain": [
       "[1, 2]"
      ]
     },
     "execution_count": 1,
     "metadata": {},
     "output_type": "execute_result"
    }
   ],
   "source": [
    "a = (1,2)\n",
    "b = [*a]\n",
    "b"
   ]
  },
  {
   "cell_type": "code",
   "execution_count": 7,
   "metadata": {},
   "outputs": [
    {
     "data": {
      "text/plain": [
       "1"
      ]
     },
     "execution_count": 7,
     "metadata": {},
     "output_type": "execute_result"
    }
   ],
   "source": [
    "None or 1"
   ]
  },
  {
   "cell_type": "code",
   "execution_count": 2,
   "metadata": {},
   "outputs": [
    {
     "data": {
      "text/plain": [
       "[1, 2, 3]"
      ]
     },
     "execution_count": 2,
     "metadata": {},
     "output_type": "execute_result"
    }
   ],
   "source": [
    "list([1,2,3])"
   ]
  },
  {
   "cell_type": "code",
   "execution_count": 11,
   "metadata": {},
   "outputs": [
    {
     "data": {
      "text/plain": [
       "<Vector2(3, 3)>"
      ]
     },
     "execution_count": 11,
     "metadata": {},
     "output_type": "execute_result"
    }
   ],
   "source": [
    "import pygame\n",
    "v1 = pygame.math.Vector2(1,1)\n",
    "v2 = v1\n",
    "v3 = pygame.math.Vector2(2,2)\n",
    "v1+=v3"
   ]
  },
  {
   "cell_type": "code",
   "execution_count": 10,
   "metadata": {},
   "outputs": [
    {
     "data": {
      "text/plain": [
       "1.0"
      ]
     },
     "execution_count": 10,
     "metadata": {},
     "output_type": "execute_result"
    }
   ],
   "source": [
    "a = [1,2]\n",
    "1.0//1"
   ]
  },
  {
   "cell_type": "code",
   "execution_count": 33,
   "metadata": {},
   "outputs": [
    {
     "name": "stdout",
     "output_type": "stream",
     "text": [
      "True\n"
     ]
    }
   ],
   "source": [
    "import pygame\n",
    "key = pygame.K_a\n",
    "print(key == ord(\"a\"))"
   ]
  },
  {
   "cell_type": "code",
   "execution_count": 27,
   "metadata": {},
   "outputs": [
    {
     "name": "stdout",
     "output_type": "stream",
     "text": [
      "512 120\n"
     ]
    },
    {
     "data": {
      "text/plain": [
       "['death|death|death|',\n",
       " 'death|death|fire|',\n",
       " 'death|death|heal|',\n",
       " 'death|death|ice|',\n",
       " 'death|death|shield|',\n",
       " 'death|death|stone|',\n",
       " 'death|death|thunder|',\n",
       " 'death|death|water|',\n",
       " 'death|fire|fire|',\n",
       " 'death|fire|heal|',\n",
       " 'death|fire|ice|',\n",
       " 'death|fire|shield|',\n",
       " 'death|fire|stone|',\n",
       " 'death|fire|thunder|',\n",
       " 'death|fire|water|',\n",
       " 'death|heal|heal|',\n",
       " 'death|heal|ice|',\n",
       " 'death|heal|shield|',\n",
       " 'death|heal|stone|',\n",
       " 'death|heal|thunder|',\n",
       " 'death|heal|water|',\n",
       " 'death|ice|ice|',\n",
       " 'death|ice|shield|',\n",
       " 'death|ice|stone|',\n",
       " 'death|ice|thunder|',\n",
       " 'death|ice|water|',\n",
       " 'death|shield|shield|shield can only be used once',\n",
       " 'death|shield|stone|',\n",
       " 'death|shield|thunder|',\n",
       " 'death|shield|water|',\n",
       " 'death|stone|stone|',\n",
       " 'death|stone|thunder|',\n",
       " 'death|stone|water|',\n",
       " 'death|thunder|thunder|',\n",
       " 'death|thunder|water|',\n",
       " 'death|water|water|',\n",
       " 'fire|fire|fire|',\n",
       " 'fire|fire|heal|',\n",
       " 'fire|fire|ice|',\n",
       " 'fire|fire|shield|',\n",
       " 'fire|fire|stone|',\n",
       " 'fire|fire|thunder|',\n",
       " 'fire|fire|water|',\n",
       " 'fire|heal|heal|',\n",
       " 'fire|heal|ice|',\n",
       " 'fire|heal|shield|',\n",
       " 'fire|heal|stone|',\n",
       " 'fire|heal|thunder|',\n",
       " 'fire|heal|water|',\n",
       " 'fire|ice|ice|',\n",
       " 'fire|ice|shield|',\n",
       " 'fire|ice|stone|',\n",
       " 'fire|ice|thunder|',\n",
       " 'fire|ice|water|',\n",
       " 'fire|shield|shield|shield can only be used once',\n",
       " 'fire|shield|stone|',\n",
       " 'fire|shield|thunder|',\n",
       " 'fire|shield|water|',\n",
       " 'fire|stone|stone|',\n",
       " 'fire|stone|thunder|',\n",
       " 'fire|stone|water|',\n",
       " 'fire|thunder|thunder|',\n",
       " 'fire|thunder|water|',\n",
       " 'fire|water|water|',\n",
       " 'heal|heal|heal|',\n",
       " 'heal|heal|ice|',\n",
       " 'heal|heal|shield|',\n",
       " 'heal|heal|stone|',\n",
       " 'heal|heal|thunder|',\n",
       " 'heal|heal|water|',\n",
       " 'heal|ice|ice|',\n",
       " 'heal|ice|shield|',\n",
       " 'heal|ice|stone|',\n",
       " 'heal|ice|thunder|',\n",
       " 'heal|ice|water|',\n",
       " 'heal|shield|shield|shield can only be used once',\n",
       " 'heal|shield|stone|',\n",
       " 'heal|shield|thunder|',\n",
       " 'heal|shield|water|',\n",
       " 'heal|stone|stone|',\n",
       " 'heal|stone|thunder|',\n",
       " 'heal|stone|water|',\n",
       " 'heal|thunder|thunder|',\n",
       " 'heal|thunder|water|',\n",
       " 'heal|water|water|',\n",
       " 'ice|ice|ice|',\n",
       " 'ice|ice|shield|',\n",
       " 'ice|ice|stone|',\n",
       " 'ice|ice|thunder|',\n",
       " 'ice|ice|water|',\n",
       " 'ice|shield|shield|shield can only be used once',\n",
       " 'ice|shield|stone|',\n",
       " 'ice|shield|thunder|',\n",
       " 'ice|shield|water|',\n",
       " 'ice|stone|stone|',\n",
       " 'ice|stone|thunder|',\n",
       " 'ice|stone|water|',\n",
       " 'ice|thunder|thunder|',\n",
       " 'ice|thunder|water|',\n",
       " 'ice|water|water|',\n",
       " 'shield|shield|shield|shield can only be used once',\n",
       " 'shield|shield|stone|shield can only be used once',\n",
       " 'shield|shield|thunder|shield can only be used once',\n",
       " 'shield|shield|water|shield can only be used once',\n",
       " 'shield|stone|stone|',\n",
       " 'shield|stone|thunder|',\n",
       " 'shield|stone|water|',\n",
       " 'shield|thunder|thunder|',\n",
       " 'shield|thunder|water|',\n",
       " 'shield|water|water|',\n",
       " 'stone|stone|stone|',\n",
       " 'stone|stone|thunder|',\n",
       " 'stone|stone|water|',\n",
       " 'stone|thunder|thunder|',\n",
       " 'stone|thunder|water|',\n",
       " 'stone|water|water|',\n",
       " 'thunder|thunder|thunder|',\n",
       " 'thunder|thunder|water|',\n",
       " 'thunder|water|water|',\n",
       " 'water|water|water|']"
      ]
     },
     "execution_count": 27,
     "metadata": {},
     "output_type": "execute_result"
    }
   ],
   "source": [
    "import itertools\n",
    "order = [\n",
    "    \"water\", \"heal\", \"shield\", \"ice\",\n",
    "    \"thunder\", \"death\", \"stone\", \"fire\"\n",
    "]\n",
    "res = []\n",
    "for i in order:\n",
    "    for j in order:\n",
    "        for k in order:\n",
    "            reason = \"\"\n",
    "            comb = (i,j,k)\n",
    "            if comb.count(\"shield\") > 1:\n",
    "                reason = \"shield can only be used once\"\n",
    "            res.append((tuple(sorted(comb)),reason))\n",
    "a = len(res)\n",
    "res = list(set(res))\n",
    "b = len(res)\n",
    "res.sort()\n",
    "ans = []\n",
    "for i in range(len(res)):\n",
    "    ans.append(\"|\".join(res[i][0])+\"|\"+res[i][1])\n",
    "print(a,b)\n",
    "ans"
   ]
  },
  {
   "cell_type": "code",
   "execution_count": null,
   "metadata": {},
   "outputs": [],
   "source": [
    "['death|death|death|',\n",
    " 'death|death|fire|',\n",
    " 'death|death|heal|',\n",
    " 'death|death|ice|',\n",
    " 'death|death|shield|',\n",
    " 'death|death|stone|',\n",
    " 'death|death|thunder|',\n",
    " 'death|death|water|',\n",
    " 'death|fire|fire|',\n",
    " 'death|fire|heal|',\n",
    " 'death|fire|ice|',\n",
    " 'death|fire|shield|',\n",
    " 'death|fire|stone|',\n",
    " 'death|fire|thunder|',\n",
    " 'death|fire|water|',\n",
    " 'death|heal|heal|',\n",
    " 'death|heal|ice|',\n",
    " 'death|heal|shield|',\n",
    " 'death|heal|stone|',\n",
    " 'death|heal|thunder|',\n",
    " 'death|heal|water|',\n",
    " 'death|ice|ice|',\n",
    " 'death|ice|shield|',\n",
    " 'death|ice|stone|',\n",
    " 'death|ice|thunder|',\n",
    " 'death|ice|water|',\n",
    " 'death|shield|shield|shield can only be used once',\n",
    " 'death|shield|stone|',\n",
    " 'death|shield|thunder|',\n",
    " 'death|shield|water|',\n",
    " 'death|stone|stone|',\n",
    " 'death|stone|thunder|',\n",
    " 'death|stone|water|',\n",
    " 'death|thunder|thunder|',\n",
    " 'death|thunder|water|',\n",
    " 'death|water|water|',\n",
    " 'fire|fire|fire|',\n",
    " 'fire|fire|heal|',\n",
    " 'fire|fire|ice|',\n",
    " 'fire|fire|shield|',\n",
    " 'fire|fire|stone|',\n",
    " 'fire|fire|thunder|',\n",
    " 'fire|fire|water|',\n",
    " 'fire|heal|heal|',\n",
    " 'fire|heal|ice|',\n",
    " 'fire|heal|shield|',\n",
    " 'fire|heal|stone|',\n",
    " 'fire|heal|thunder|',\n",
    " 'fire|heal|water|',\n",
    " 'fire|ice|ice|',\n",
    " 'fire|ice|shield|',\n",
    " 'fire|ice|stone|',\n",
    " 'fire|ice|thunder|',\n",
    " 'fire|ice|water|',\n",
    " 'fire|shield|shield|shield can only be used once',\n",
    " 'fire|shield|stone|',\n",
    " 'fire|shield|thunder|',\n",
    " 'fire|shield|water|',\n",
    " 'fire|stone|stone|',\n",
    " 'fire|stone|thunder|',\n",
    " 'fire|stone|water|',\n",
    " 'fire|thunder|thunder|',\n",
    " 'fire|thunder|water|',\n",
    " 'fire|water|water|',\n",
    " 'heal|heal|heal|',\n",
    " 'heal|heal|ice|',\n",
    " 'heal|heal|shield|',\n",
    " 'heal|heal|stone|',\n",
    " 'heal|heal|thunder|',\n",
    " 'heal|heal|water|',\n",
    " 'heal|ice|ice|',\n",
    " 'heal|ice|shield|',\n",
    " 'heal|ice|stone|',\n",
    " 'heal|ice|thunder|',\n",
    " 'heal|ice|water|',\n",
    " 'heal|shield|shield|shield can only be used once',\n",
    " 'heal|shield|stone|',\n",
    " 'heal|shield|thunder|',\n",
    " 'heal|shield|water|',\n",
    " 'heal|stone|stone|',\n",
    " 'heal|stone|thunder|',\n",
    " 'heal|stone|water|',\n",
    " 'heal|thunder|thunder|',\n",
    " 'heal|thunder|water|',\n",
    " 'heal|water|water|',\n",
    " 'ice|ice|ice|',\n",
    " 'ice|ice|shield|',\n",
    " 'ice|ice|stone|',\n",
    " 'ice|ice|thunder|',\n",
    " 'ice|ice|water|',\n",
    " 'ice|shield|shield|shield can only be used once',\n",
    " 'ice|shield|stone|',\n",
    " 'ice|shield|thunder|',\n",
    " 'ice|shield|water|',\n",
    " 'ice|stone|stone|',\n",
    " 'ice|stone|thunder|',\n",
    " 'ice|stone|water|',\n",
    " 'ice|thunder|thunder|',\n",
    " 'ice|thunder|water|',\n",
    " 'ice|water|water|',\n",
    " 'shield|shield|shield|shield can only be used once',\n",
    " 'shield|shield|stone|shield can only be used once',\n",
    " 'shield|shield|thunder|shield can only be used once',\n",
    " 'shield|shield|water|shield can only be used once',\n",
    " 'shield|stone|stone|',\n",
    " 'shield|stone|thunder|',\n",
    " 'shield|stone|water|',\n",
    " 'shield|thunder|thunder|',\n",
    " 'shield|thunder|water|',\n",
    " 'shield|water|water|',\n",
    " 'stone|stone|stone|',\n",
    " 'stone|stone|thunder|',\n",
    " 'stone|stone|water|',\n",
    " 'stone|thunder|thunder|',\n",
    " 'stone|thunder|water|',\n",
    " 'stone|water|water|',\n",
    " 'thunder|thunder|thunder|',\n",
    " 'thunder|thunder|water|',\n",
    " 'thunder|water|water|',\n",
    " 'water|water|water|']"
   ]
  }
 ],
 "metadata": {
  "interpreter": {
   "hash": "103ecc4151260a49eae60a9a8ffa34582d97b92c80fa8e600cccdf69a69bf1ab"
  },
  "kernelspec": {
   "display_name": "Python 3.9.6 64-bit",
   "language": "python",
   "name": "python3"
  },
  "language_info": {
   "codemirror_mode": {
    "name": "ipython",
    "version": 3
   },
   "file_extension": ".py",
   "mimetype": "text/x-python",
   "name": "python",
   "nbconvert_exporter": "python",
   "pygments_lexer": "ipython3",
   "version": "3.9.6"
  },
  "orig_nbformat": 4
 },
 "nbformat": 4,
 "nbformat_minor": 2
}
