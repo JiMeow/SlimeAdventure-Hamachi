{
 "cells": [
  {
   "cell_type": "code",
   "execution_count": 12,
   "metadata": {},
   "outputs": [
    {
     "name": "stdout",
     "output_type": "stream",
     "text": [
      "False\n",
      "testTrue\n",
      "\n"
     ]
    }
   ],
   "source": [
    "from threading import Thread\n",
    "def test():\n",
    "    print(\"test\")\n",
    "\n",
    "thread = Thread(target=test)\n",
    "print(thread.is_alive())\n",
    "thread.start()\n",
    "print(thread.is_alive())"
   ]
  }
 ],
 "metadata": {
  "interpreter": {
   "hash": "103ecc4151260a49eae60a9a8ffa34582d97b92c80fa8e600cccdf69a69bf1ab"
  },
  "kernelspec": {
   "display_name": "Python 3.9.6 64-bit",
   "language": "python",
   "name": "python3"
  },
  "language_info": {
   "codemirror_mode": {
    "name": "ipython",
    "version": 3
   },
   "file_extension": ".py",
   "mimetype": "text/x-python",
   "name": "python",
   "nbconvert_exporter": "python",
   "pygments_lexer": "ipython3",
   "version": "3.9.6"
  },
  "orig_nbformat": 4
 },
 "nbformat": 4,
 "nbformat_minor": 2
}
