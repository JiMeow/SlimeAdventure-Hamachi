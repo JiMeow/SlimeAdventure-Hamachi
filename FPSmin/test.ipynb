{
 "cells": [
  {
   "cell_type": "code",
   "execution_count": 3,
   "metadata": {},
   "outputs": [
    {
     "name": "stdout",
     "output_type": "stream",
     "text": [
      "test\n"
     ]
    }
   ],
   "source": [
    "from threading import Thread\n",
    "class Test:\n",
    "    def __init__(self):\n",
    "        self.word = \"test\"\n",
    "    def test(self):\n",
    "        print(self.word)\n",
    "o = Test()\n",
    "thread = Thread(target=o.test)\n",
    "thread.start()"
   ]
  },
  {
   "cell_type": "code",
   "execution_count": 33,
   "metadata": {},
   "outputs": [
    {
     "data": {
      "text/plain": [
       "<Vector2(2, 2)>"
      ]
     },
     "execution_count": 33,
     "metadata": {},
     "output_type": "execute_result"
    }
   ],
   "source": [
    "import pygame\n",
    "vector1 = pygame.math.Vector2(4,4)\n",
    "vector2 = pygame.math.Vector2(2,2)\n",
    "# interpolation\n",
    "pygame.math.Vector2.lerp(vector1,vector2, 1)"
   ]
  },
  {
   "cell_type": "code",
   "execution_count": 20,
   "metadata": {},
   "outputs": [
    {
     "name": "stderr",
     "output_type": "stream",
     "text": [
      "Exception in thread Thread-22:\n",
      "Traceback (most recent call last):\n",
      "  File \"C:\\Users\\MinZung\\AppData\\Local\\Programs\\Python\\Python39\\lib\\threading.py\", line 973, in _bootstrap_inner\n",
      "    self.run()\n",
      "  File \"C:\\Users\\MinZung\\AppData\\Local\\Programs\\Python\\Python39\\lib\\threading.py\", line 910, in run\n",
      "    self._target(*self._args, **self._kwargs)\n",
      "  File \"C:\\Users\\MinZung\\AppData\\Local\\Temp/ipykernel_17372/3056894119.py\", line 10, in test\n",
      "Exception: test\n"
     ]
    }
   ],
   "source": [
    "import threading\n",
    "from time import sleep\n",
    "class MyThread(threading.Thread):\n",
    "    def __init__(self):\n",
    "        threading.Thread.__init__(self)\n",
    "    def run(self):\n",
    "        test()\n",
    "def test():\n",
    "    sleep(1)\n",
    "    raise Exception(\"test\")\n",
    "    \n",
    "try:\n",
    "    thread = threading.Thread(target=test)\n",
    "    thread.start()\n",
    "    thread.join()\n",
    "except:\n",
    "    print(\"error handling\")\n"
   ]
  },
  {
   "cell_type": "code",
   "execution_count": 22,
   "metadata": {},
   "outputs": [],
   "source": [
    "import threading\n",
    "\n",
    "# Custom Thread Class\n",
    "class MyThread(threading.Thread):\n",
    "     \n",
    "  # Function that raises the custom exception\n",
    "    def someFunction(self):\n",
    "        name = threading.current_thread().name\n",
    "        raise Exception(\"An error in thread \"+ name)\n",
    " \n",
    "    def run(self):\n",
    "       \n",
    "        # Variable that stores the exception, if raised by someFunction\n",
    "        self.exc = None           \n",
    "        try:\n",
    "            self.someFunction()\n",
    "        except BaseException as e:\n",
    "            self.exc = e\n",
    "       \n",
    "    def join(self):\n",
    "        threading.Thread.join(self)\n",
    "        # Since join() returns in caller thread\n",
    "        # we re-raise the caught exception\n",
    "        # if any was caught\n",
    "        if self.exc:\n",
    "            raise self.exc\n",
    " \n",
    "# Driver function\n",
    "def main():\n",
    "   \n",
    "    # Create a new Thread t\n",
    "    # Here Main is the caller thread\n",
    "    t = MyThread()\n",
    "    t.start()\n",
    "     \n",
    "    # Exception handled in Caller thread\n",
    "    try:\n",
    "        t.join()\n",
    "    except Exception as e:\n",
    "        print(\"Exception Handled in Main, Details of the Exception:\", e)"
   ]
  }
 ],
 "metadata": {
  "interpreter": {
   "hash": "103ecc4151260a49eae60a9a8ffa34582d97b92c80fa8e600cccdf69a69bf1ab"
  },
  "kernelspec": {
   "display_name": "Python 3.9.6 64-bit",
   "language": "python",
   "name": "python3"
  },
  "language_info": {
   "codemirror_mode": {
    "name": "ipython",
    "version": 3
   },
   "file_extension": ".py",
   "mimetype": "text/x-python",
   "name": "python",
   "nbconvert_exporter": "python",
   "pygments_lexer": "ipython3",
   "version": "3.9.6"
  },
  "orig_nbformat": 4
 },
 "nbformat": 4,
 "nbformat_minor": 2
}
