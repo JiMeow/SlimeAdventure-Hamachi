{
 "cells": [
  {
   "cell_type": "code",
   "execution_count": 3,
   "metadata": {},
   "outputs": [
    {
     "name": "stdout",
     "output_type": "stream",
     "text": [
      "test\n"
     ]
    }
   ],
   "source": [
    "from threading import Thread\n",
    "class Test:\n",
    "    def __init__(self):\n",
    "        self.word = \"test\"\n",
    "    def test(self):\n",
    "        print(self.word)\n",
    "o = Test()\n",
    "thread = Thread(target=o.test)\n",
    "thread.start()"
   ]
  },
  {
   "cell_type": "code",
   "execution_count": 33,
   "metadata": {},
   "outputs": [
    {
     "data": {
      "text/plain": [
       "<Vector2(2, 2)>"
      ]
     },
     "execution_count": 33,
     "metadata": {},
     "output_type": "execute_result"
    }
   ],
   "source": [
    "import pygame\n",
    "vector1 = pygame.math.Vector2(4,4)\n",
    "vector2 = pygame.math.Vector2(2,2)\n",
    "# interpolation\n",
    "pygame.math.Vector2.lerp(vector1,vector2, 1)"
   ]
  }
 ],
 "metadata": {
  "interpreter": {
   "hash": "103ecc4151260a49eae60a9a8ffa34582d97b92c80fa8e600cccdf69a69bf1ab"
  },
  "kernelspec": {
   "display_name": "Python 3.9.6 64-bit",
   "language": "python",
   "name": "python3"
  },
  "language_info": {
   "codemirror_mode": {
    "name": "ipython",
    "version": 3
   },
   "file_extension": ".py",
   "mimetype": "text/x-python",
   "name": "python",
   "nbconvert_exporter": "python",
   "pygments_lexer": "ipython3",
   "version": "3.9.6"
  },
  "orig_nbformat": 4
 },
 "nbformat": 4,
 "nbformat_minor": 2
}
